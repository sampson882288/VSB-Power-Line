{
 "cells": [
  {
   "cell_type": "code",
   "execution_count": 2,
   "metadata": {},
   "outputs": [],
   "source": [
    "import pandas as pd\n",
    "import pyarrow.parquet as pq\n",
    "import os"
   ]
  },
  {
   "cell_type": "code",
   "execution_count": 3,
   "metadata": {},
   "outputs": [
    {
     "data": {
      "text/plain": [
       "['sample_submission.csv',\n",
       " 'test.parquet',\n",
       " 'train.parquet',\n",
       " 'metadata_test.csv',\n",
       " 'metadata_train.csv']"
      ]
     },
     "execution_count": 3,
     "metadata": {},
     "output_type": "execute_result"
    }
   ],
   "source": [
    "os.listdir('G:\\My Drive\\DSBA 6211 Advanced Business Analytics\\Team Project\\VSB Power Line Fault Detection')"
   ]
  },
  {
   "cell_type": "code",
   "execution_count": 5,
   "metadata": {},
   "outputs": [],
   "source": [
    "train = pq.read_pandas('G:/My Drive/DSBA 6211 Advanced Business Analytics/Team Project/VSB Power Line Fault Detection/train.parquet').to_pandas()"
   ]
  },
  {
   "cell_type": "code",
   "execution_count": 6,
   "metadata": {},
   "outputs": [
    {
     "name": "stdout",
     "output_type": "stream",
     "text": [
      "<class 'pandas.core.frame.DataFrame'>\n",
      "RangeIndex: 800000 entries, 0 to 799999\n",
      "Columns: 8712 entries, 0 to 8711\n",
      "dtypes: int8(8712)\n",
      "memory usage: 6.5 GB\n"
     ]
    }
   ],
   "source": [
    "train.info()"
   ]
  },
  {
   "cell_type": "code",
   "execution_count": 7,
   "metadata": {},
   "outputs": [
    {
     "data": {
      "text/plain": [
       "Index(['0', '1', '2', '3', '4'], dtype='object')"
      ]
     },
     "execution_count": 7,
     "metadata": {},
     "output_type": "execute_result"
    }
   ],
   "source": [
    "train.columns[:5]"
   ]
  },
  {
   "cell_type": "code",
   "execution_count": 17,
   "metadata": {},
   "outputs": [],
   "source": [
    "subset_train = pq.read_pandas('G:/My Drive/DSBA 6211 Advanced Business Analytics/Team Project/VSB Power Line Fault Detection/train.parquet', columns=[str(i) for i in range(10)]).to_pandas()"
   ]
  },
  {
   "cell_type": "code",
   "execution_count": 18,
   "metadata": {},
   "outputs": [
    {
     "name": "stdout",
     "output_type": "stream",
     "text": [
      "<class 'pandas.core.frame.DataFrame'>\n",
      "RangeIndex: 800000 entries, 0 to 799999\n",
      "Data columns (total 10 columns):\n",
      "0    800000 non-null int8\n",
      "1    800000 non-null int8\n",
      "2    800000 non-null int8\n",
      "3    800000 non-null int8\n",
      "4    800000 non-null int8\n",
      "5    800000 non-null int8\n",
      "6    800000 non-null int8\n",
      "7    800000 non-null int8\n",
      "8    800000 non-null int8\n",
      "9    800000 non-null int8\n",
      "dtypes: int8(10)\n",
      "memory usage: 7.6 MB\n"
     ]
    }
   ],
   "source": [
    "subset_train.info()"
   ]
  },
  {
   "cell_type": "code",
   "execution_count": 19,
   "metadata": {},
   "outputs": [
    {
     "data": {
      "text/plain": [
       "<bound method NDFrame.head of          0  1   2   3  4   5   6   7  8   9\n",
       "0       18  1 -19 -16 -5  19 -15  15 -1 -16\n",
       "1       18  0 -19 -17 -6  19 -17  16  0 -15\n",
       "2       17 -1 -20 -17 -6  19 -17  15 -3 -15\n",
       "3       18  1 -19 -16 -5  20 -16  16  0 -15\n",
       "4       18  0 -19 -16 -5  20 -17  16 -2 -14\n",
       "5       18  0 -20 -15 -4  20 -16  15 -2 -12\n",
       "6       19  1 -18 -16 -5  20 -16  16 -1 -13\n",
       "7       18  0 -19 -17 -7  18 -17  15 -2 -15\n",
       "8       18  0 -20 -18 -7  18 -16  15 -2 -16\n",
       "9       17  0 -19 -17 -7  18 -17  17 -1 -14\n",
       "10      18  0 -19 -16 -4  20 -16  14 -2 -13\n",
       "11      18  1 -19 -16 -5  20 -15  17 -1 -13\n",
       "12      18  0 -19 -16 -4  20 -17  16 -1 -12\n",
       "13      18  0 -19 -16 -5  20 -15  15 -2 -12\n",
       "14      18  1 -18 -16 -5  20 -17  17  1 -15\n",
       "15      17  0 -20 -16 -5  19 -16  15 -3 -16\n",
       "16      17  0 -19 -16 -4  20 -15  17  1 -15\n",
       "17      18  0 -19 -15 -4  20 -17  17 -1 -12\n",
       "18      18  0 -19 -14 -3  22 -14  16 -2 -12\n",
       "19      18  1 -18 -14 -4  22 -16  17  1 -13\n",
       "20      19  1 -19 -15 -4  21 -15  16 -2 -15\n",
       "21      17  0 -20 -16 -5  20 -14  17  1 -16\n",
       "22      17  0 -19 -17 -6  19 -16  18 -1 -16\n",
       "23      18  0 -20 -17 -5  19 -14  16 -1 -15\n",
       "24      18  0 -19 -16 -5  20 -15  18  0 -14\n",
       "25      18  1 -18 -16 -4  20 -16  17  0 -13\n",
       "26      18  1 -19 -16 -5  20 -14  16 -1 -14\n",
       "27      18  0 -19 -16 -5  20 -15  18  0 -16\n",
       "28      18  0 -19 -17 -6  19 -15  16 -1 -17\n",
       "29      17 -1 -20 -17 -5  19 -13  17 -1 -15\n",
       "...     .. ..  ..  .. ..  ..  ..  .. ..  ..\n",
       "799970  17  0 -20 -15 -4  21 -18  15 -2 -19\n",
       "799971  17  0 -20 -14 -4  21 -14  16 -2 -18\n",
       "799972  17  0 -19 -15 -4  21 -16  17  0 -16\n",
       "799973  16 -1 -20 -15 -4  21 -16  14 -3 -14\n",
       "799974  18  0 -20 -15 -4  21 -14  17  0 -13\n",
       "799975  18  0 -19 -16 -5  20 -17  16 -2 -13\n",
       "799976  18  0 -19 -15 -5  20 -14  16 -2 -14\n",
       "799977  19  2 -18 -14 -4  21 -14  17  0 -14\n",
       "799978  18  0 -20 -14 -4  21 -17  15 -3 -14\n",
       "799979  17  0 -20 -16 -5  20 -14  17  0 -13\n",
       "799980  17  0 -20 -15 -5  20 -16  16 -1 -13\n",
       "799981  17  0 -20 -16 -5  20 -16  16 -3 -13\n",
       "799982  18  1 -18 -16 -5  20 -13  17  0 -15\n",
       "799983  17  0 -20 -16 -5  20 -16  15 -3 -16\n",
       "799984  17  0 -19 -15 -5  20 -15  16 -1 -17\n",
       "799985  18  1 -19 -16 -5  21 -15  18 -1 -16\n",
       "799986  17 -1 -20 -15 -5  20 -17  14 -3 -14\n",
       "799987  18  0 -19 -16 -5  20 -14  17 -2 -13\n",
       "799988  19  1 -18 -17 -6  19 -16  16 -2 -13\n",
       "799989  19  1 -18 -16 -5  20 -16  15 -3 -14\n",
       "799990  18  1 -19 -15 -4  21 -15  17 -1 -16\n",
       "799991  18  0 -20 -15 -4  20 -17  15 -3 -16\n",
       "799992  17  0 -21 -15 -4  21 -15  15 -2 -14\n",
       "799993  17  0 -18 -15 -5  21 -16  16 -1 -14\n",
       "799994  18  0 -19 -15 -4  20 -17  14 -3 -15\n",
       "799995  19  2 -18 -15 -4  21 -16  16 -1 -17\n",
       "799996  19  1 -19 -15 -4  20 -17  15 -3 -18\n",
       "799997  17  0 -19 -15 -4  21 -16  14 -2 -18\n",
       "799998  19  1 -18 -14 -3  22 -16  17 -1 -17\n",
       "799999  17  0 -19 -14 -4  21 -17  14 -4 -15\n",
       "\n",
       "[800000 rows x 10 columns]>"
      ]
     },
     "execution_count": 19,
     "metadata": {},
     "output_type": "execute_result"
    }
   ],
   "source": [
    "subset_train.head"
   ]
  },
  {
   "cell_type": "code",
   "execution_count": null,
   "metadata": {},
   "outputs": [],
   "source": []
  }
 ],
 "metadata": {
  "kernelspec": {
   "display_name": "Python 3",
   "language": "python",
   "name": "python3"
  },
  "language_info": {
   "codemirror_mode": {
    "name": "ipython",
    "version": 3
   },
   "file_extension": ".py",
   "mimetype": "text/x-python",
   "name": "python",
   "nbconvert_exporter": "python",
   "pygments_lexer": "ipython3",
   "version": "3.7.0"
  }
 },
 "nbformat": 4,
 "nbformat_minor": 2
}
